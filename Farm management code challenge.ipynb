{
 "cells": [
  {
   "cell_type": "markdown",
   "id": "c9bc8739",
   "metadata": {},
   "source": [
    "Code challenge: Farm harvest management\n",
    "=======================================\n",
    "\n"
   ]
  },
  {
   "cell_type": "markdown",
   "id": "7988a81c",
   "metadata": {},
   "source": [
    "In this code challenge, we will assist a farmer in calculating the total harvest from two fields (wheat and potatoes) and the overall expenses and profits for this season.\n",
    "\n"
   ]
  },
  {
   "cell_type": "markdown",
   "id": "76bc638d",
   "metadata": {},
   "source": [
    "Learning objectives\n",
    "-------------------\n",
    "\n"
   ]
  },
  {
   "cell_type": "markdown",
   "id": "fc809e49",
   "metadata": {},
   "source": [
    "In this train, we will:\n",
    "\n"
   ]
  },
  {
   "cell_type": "markdown",
   "id": "2907736d",
   "metadata": {},
   "source": [
    "* Understand how to perform basic arithmetic operations in a Jupyter notebook.\n",
    "* Know how to assign numerical values to variables.\n",
    "* Know how to use the print() function to display our results.\n"
   ]
  },
  {
   "cell_type": "markdown",
   "id": "d2e73353",
   "metadata": {},
   "source": [
    "Instructions\n",
    "------------\n",
    "\n"
   ]
  },
  {
   "cell_type": "markdown",
   "id": "07dbade9",
   "metadata": {},
   "source": [
    "* **This code challenge does not count for marks.**\n",
    "* Do not add or remove cells in this notebook.\n",
    "* Answer the questions according to the specifications provided.\n",
    "* Use the given cell in each question to see if your function matches the expected outputs.\n"
   ]
  },
  {
   "cell_type": "markdown",
   "id": "b5cb7907",
   "metadata": {},
   "source": [
    "Challenge 1\n",
    "-----------\n",
    "\n"
   ]
  },
  {
   "cell_type": "markdown",
   "id": "120f4f41",
   "metadata": {},
   "source": [
    "Calculate the total harvest for the farmer.\n",
    "\n"
   ]
  },
  {
   "cell_type": "code",
   "execution_count": null,
   "id": "976f6fe3",
   "metadata": {},
   "outputs": [],
   "source": [
    "total_kgs_wheat_harvest = 2050\n",
    "total_kgs_potato_harvest = 3600\n",
    "\n",
    "total_kgs_harvest = # add your code here\n",
    "print(\"Total harvest in kilograms:\", total_kgs_harvest)"
   ]
  },
  {
   "cell_type": "markdown",
   "id": "0c5ab219",
   "metadata": {},
   "source": [
    "**Expected outputs:**\n",
    "\n"
   ]
  },
  {
   "cell_type": "code",
   "execution_count": null,
   "id": "1ddb4c1f",
   "metadata": {},
   "outputs": [],
   "source": [
    "Total harvest in kilograms: 5650\n"
   ]
  },
  {
   "cell_type": "markdown",
   "id": "26775a01",
   "metadata": {},
   "source": [
    "Challenge 2\n",
    "-----------\n",
    "\n"
   ]
  },
  {
   "cell_type": "markdown",
   "id": "40fcf561",
   "metadata": {},
   "source": [
    "Calculate the total expenses (in dollars) and print the result.\n",
    "\n"
   ]
  },
  {
   "cell_type": "code",
   "execution_count": null,
   "id": "0d199b35",
   "metadata": {},
   "outputs": [],
   "source": [
    "seed_expense = 650\n",
    "labour_expense = 3070\n",
    "\n",
    "total_expenses_dollars = # add your code here\n",
    "print() # add your code here"
   ]
  },
  {
   "cell_type": "markdown",
   "id": "23827e59",
   "metadata": {},
   "source": [
    "**Expected outputs:**\n",
    "\n"
   ]
  },
  {
   "cell_type": "code",
   "execution_count": null,
   "id": "cb01bdda",
   "metadata": {},
   "outputs": [],
   "source": [
    "Total expenses in dollars: 3720\n"
   ]
  },
  {
   "cell_type": "markdown",
   "id": "deae2290",
   "metadata": {},
   "source": [
    "Challenge 3\n",
    "-----------\n",
    "\n"
   ]
  },
  {
   "cell_type": "markdown",
   "id": "237bf5ea",
   "metadata": {},
   "source": [
    "Calculate the total revenue (in dollars) and print the result.\n",
    "\n"
   ]
  },
  {
   "cell_type": "code",
   "execution_count": null,
   "id": "9309cd25",
   "metadata": {},
   "outputs": [],
   "source": [
    "price_per_kg_wheat = 2\n",
    "price_per_kg_potato = 1.4\n",
    "\n",
    "total_revenue_dollars = # add your code here\n",
    "print() # add your code here"
   ]
  },
  {
   "cell_type": "markdown",
   "id": "06247912",
   "metadata": {},
   "source": [
    "**Expected outputs:**\n",
    "\n"
   ]
  },
  {
   "cell_type": "code",
   "execution_count": null,
   "id": "fdfedc20",
   "metadata": {},
   "outputs": [],
   "source": [
    "Total revenue in dollars: 9140\n"
   ]
  },
  {
   "cell_type": "markdown",
   "id": "0f10231e",
   "metadata": {},
   "source": [
    "Challenge 4\n",
    "-----------\n",
    "\n"
   ]
  },
  {
   "cell_type": "markdown",
   "id": "9d585b55",
   "metadata": {},
   "source": [
    "Calculate the total profit (in dollars) and print the result.\n",
    "\n"
   ]
  },
  {
   "cell_type": "code",
   "execution_count": null,
   "id": "20e9e9b0",
   "metadata": {},
   "outputs": [],
   "source": [
    "total_profit_dollars = # add your code here\n",
    "print() # add your code here"
   ]
  },
  {
   "cell_type": "markdown",
   "id": "94b5b390",
   "metadata": {},
   "source": [
    "**Expected outputs:**\n",
    "\n"
   ]
  },
  {
   "cell_type": "code",
   "execution_count": null,
   "id": "40ec13cf",
   "metadata": {},
   "outputs": [],
   "source": [
    "Total profit in dollars: 5420 \n"
   ]
  }
 ],
 "metadata": {
  "authors": [
   "NDAYISENGA Theoneste"
  ],
  "kernelspec": {
   "display_name": "Lambda Python",
   "language": "python",
   "name": "python"
  },
  "language_info": {
   "name": "python"
  }
 },
 "nbformat": 4,
 "nbformat_minor": 5
}